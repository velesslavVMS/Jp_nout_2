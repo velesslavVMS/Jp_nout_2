{
 "cells": [
  {
   "cell_type": "code",
   "execution_count": null,
   "metadata": {},
   "outputs": [],
   "source": []
  },
  {
   "cell_type": "markdown",
   "metadata": {},
   "source": [
    "## 2.4. Анализ рынка недвижимости - 2\n",
    "1. Сколько в среднем стоят дома, у которых 2 спальни?\n",
    "2. Какая в среднем общая площадь домов(sqft_lot), у которых стоимость больше 600000?\n",
    "3. Как много домов коснулся ремонт? Как много домов не было отремонтировано? Используйте поле yr_renovated.  Подсчитайте процентное отношение этих величин.\n",
    "4. Насколько в среднем стоимость домов с оценкой grade домов выше 10 отличается от стоимости домов с оценкой grade меньше 4?"
   ]
  },
  {
   "cell_type": "code",
   "execution_count": 1,
   "metadata": {},
   "outputs": [],
   "source": [
    "import pandas as pd"
   ]
  },
  {
   "cell_type": "code",
   "execution_count": 2,
   "metadata": {},
   "outputs": [],
   "source": [
    "data = pd.read_csv('kc-house-data.csv')"
   ]
  },
  {
   "cell_type": "markdown",
   "metadata": {},
   "source": [
    "1. Сколько в среднем стоят дома, у которых 2 спальни?  \n",
    "= 401372"
   ]
  },
  {
   "cell_type": "code",
   "execution_count": 3,
   "metadata": {},
   "outputs": [
    {
     "data": {
      "text/plain": [
       "bedrooms         2.000000\n",
       "price       401372.681884\n",
       "dtype: float64"
      ]
     },
     "execution_count": 3,
     "metadata": {},
     "output_type": "execute_result"
    }
   ],
   "source": [
    "price2 = data[(data['bedrooms']==2)][['bedrooms', 'price']]\n",
    "price2.mean()"
   ]
  },
  {
   "cell_type": "markdown",
   "metadata": {},
   "source": [
    "2. Какая в среднем общая площадь домов(sqft_lot), у которых стоимость больше 600000?   \n",
    "Средняя sqft_lot таких домов = 20454.783538"
   ]
  },
  {
   "cell_type": "code",
   "execution_count": 4,
   "metadata": {},
   "outputs": [
    {
     "data": {
      "text/plain": [
       "sqft_lot     20454.783538\n",
       "price       930332.051210\n",
       "dtype: float64"
      ]
     },
     "execution_count": 4,
     "metadata": {},
     "output_type": "execute_result"
    }
   ],
   "source": [
    "sq_lot6 = data[(data['price'] >=600000)][['sqft_lot', 'price']]\n",
    "sq_lot6.mean()"
   ]
  },
  {
   "cell_type": "markdown",
   "metadata": {},
   "source": [
    "3. Как много домов коснулся ремонт? Как много домов не было отремонтировано? Используйте поле yr_renovated. Подсчитайте процентное отношение этих величин.  \n",
    "Было отремонтировано 4,22% домов. Не затронул ремонт 95,77% домов."
   ]
  },
  {
   "cell_type": "code",
   "execution_count": 5,
   "metadata": {},
   "outputs": [
    {
     "data": {
      "text/plain": [
       "4.228936288344977"
      ]
     },
     "execution_count": 5,
     "metadata": {},
     "output_type": "execute_result"
    }
   ],
   "source": [
    "total = data['yr_built'].count()\n",
    "noRen = data[(data['yr_renovated'] == 0)].shape[0]\n",
    "ren = data[~(data['yr_renovated'] == 0)].shape[0]\n",
    "ren/total*100"
   ]
  },
  {
   "cell_type": "code",
   "execution_count": 6,
   "metadata": {},
   "outputs": [
    {
     "data": {
      "text/plain": [
       "95.77106371165502"
      ]
     },
     "execution_count": 6,
     "metadata": {},
     "output_type": "execute_result"
    }
   ],
   "source": [
    "noRen/total*100"
   ]
  },
  {
   "cell_type": "markdown",
   "metadata": {},
   "source": [
    "4. Насколько в среднем стоимость домов с оценкой grade домов выше 10 отличается от стоимости домов с оценкой grade меньше 4?\n",
    "Выше в 5,95 раза."
   ]
  },
  {
   "cell_type": "code",
   "execution_count": 7,
   "metadata": {},
   "outputs": [
    {
     "data": {
      "text/plain": [
       "price    5.95086\n",
       "dtype: float64"
      ]
     },
     "execution_count": 7,
     "metadata": {},
     "output_type": "execute_result"
    }
   ],
   "source": [
    "price_grade4 = data[(data['grade']<= 4)][['price']]\n",
    "price_grade4.mean()\n",
    "price_grade10 = data[(data['grade'] >= 10)][['price']]\n",
    "price_grade10.mean()\n",
    "price_grade10.mean()/price_grade4.mean()"
   ]
  },
  {
   "cell_type": "markdown",
   "metadata": {},
   "source": []
  }
 ],
 "metadata": {
  "kernelspec": {
   "display_name": "Python 3",
   "language": "python",
   "name": "python3"
  },
  "language_info": {
   "codemirror_mode": {
    "name": "ipython",
    "version": 3
   },
   "file_extension": ".py",
   "mimetype": "text/x-python",
   "name": "python",
   "nbconvert_exporter": "python",
   "pygments_lexer": "ipython3",
   "version": "3.10.11"
  },
  "orig_nbformat": 4
 },
 "nbformat": 4,
 "nbformat_minor": 2
}
